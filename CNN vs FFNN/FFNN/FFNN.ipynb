{
  "nbformat": 4,
  "nbformat_minor": 0,
  "metadata": {
    "colab": {
      "name": "FFNN.ipynb",
      "provenance": []
    },
    "kernelspec": {
      "name": "python3",
      "display_name": "Python 3"
    },
    "accelerator": "GPU"
  },
  "cells": [
    {
      "cell_type": "code",
      "metadata": {
        "id": "Wl7WT10C_ld4",
        "colab_type": "code",
        "outputId": "6ed545ff-ebdb-4e26-b8a3-6f3f1e98ea1e",
        "colab": {
          "base_uri": "https://localhost:8080/",
          "height": 185
        }
      },
      "source": [
        "import tensorflow as tf \n",
        "import datetime,os\n",
        "from tensorflow.keras import datasets, layers, models\n",
        "from keras.datasets import mnist\n",
        "\n",
        "(train_images, train_labels), (test_images, test_labels) = mnist.load_data()\n",
        "\n",
        "print(\"Before reshaping\",)\n",
        "print(\"No.of.axis in training images\",train_images.ndim)\n",
        "print(\"No.of.axis in testing images\",test_images.ndim)\n",
        "print(\"Shape of training images\",train_images.shape)\n",
        "print(\"Shape of testing images\",test_images.shape)\n",
        "\n",
        "train_images = train_images.reshape((60000,28,28,1))\n",
        "test_images = test_images.reshape((10000,28,28,1))\n",
        "\n",
        "print(\"After reshaping\",)\n",
        "print(\"No.of.axis in training images\",train_images.ndim)\n",
        "print(\"No.of.axis in testing images\",test_images.ndim)\n",
        "print(\"Shape of training images\",train_images.shape)\n",
        "print(\"Shape of testing images\",test_images.shape)\n",
        "\n",
        "# Create convolutional base\n",
        "#model = models.Sequential()"
      ],
      "execution_count": 0,
      "outputs": [
        {
          "output_type": "stream",
          "text": [
            "Before reshaping\n",
            "No.of.axis in training images 3\n",
            "No.of.axis in testing images 3\n",
            "Shape of training images (60000, 28, 28)\n",
            "Shape of testing images (10000, 28, 28)\n",
            "After reshaping\n",
            "No.of.axis in training images 4\n",
            "No.of.axis in testing images 4\n",
            "Shape of training images (60000, 28, 28, 1)\n",
            "Shape of testing images (10000, 28, 28, 1)\n"
          ],
          "name": "stdout"
        }
      ]
    },
    {
      "cell_type": "code",
      "metadata": {
        "id": "zisif0Jm_-uZ",
        "colab_type": "code",
        "colab": {}
      },
      "source": [
        " train_images, test_images = train_images/255.0, test_images/255.0"
      ],
      "execution_count": 0,
      "outputs": []
    },
    {
      "cell_type": "code",
      "metadata": {
        "id": "HsffNXKBAdwT",
        "colab_type": "code",
        "colab": {}
      },
      "source": [
        "model_dnn = tf.keras.models.Sequential([tf.keras.layers.Flatten(input_shape=(28,28)),tf.keras.layers.Dense(128,activation='relu')\n",
        "                                        , tf.keras.layers.Dropout(0.2),tf.keras.layers.Dense(10,activation='softmax')])"
      ],
      "execution_count": 0,
      "outputs": []
    },
    {
      "cell_type": "code",
      "metadata": {
        "id": "6wxXJI1tCf2T",
        "colab_type": "code",
        "colab": {}
      },
      "source": [
        "model_dnn.compile(optimizer='adam',loss = 'sparse_categorical_crossentropy',metrics=['accuracy'] )"
      ],
      "execution_count": 0,
      "outputs": []
    },
    {
      "cell_type": "code",
      "metadata": {
        "id": "Kf8TvsCIDnBn",
        "colab_type": "code",
        "outputId": "6937b2c8-8f43-4abd-a434-b2a5cd01d56d",
        "colab": {
          "base_uri": "https://localhost:8080/",
          "height": 286
        }
      },
      "source": [
        "model_dnn.summary()"
      ],
      "execution_count": 0,
      "outputs": [
        {
          "output_type": "stream",
          "text": [
            "Model: \"sequential_2\"\n",
            "_________________________________________________________________\n",
            "Layer (type)                 Output Shape              Param #   \n",
            "=================================================================\n",
            "flatten_1 (Flatten)          (None, 784)               0         \n",
            "_________________________________________________________________\n",
            "dense_2 (Dense)              (None, 128)               100480    \n",
            "_________________________________________________________________\n",
            "dropout_1 (Dropout)          (None, 128)               0         \n",
            "_________________________________________________________________\n",
            "dense_3 (Dense)              (None, 10)                1290      \n",
            "=================================================================\n",
            "Total params: 101,770\n",
            "Trainable params: 101,770\n",
            "Non-trainable params: 0\n",
            "_________________________________________________________________\n"
          ],
          "name": "stdout"
        }
      ]
    },
    {
      "cell_type": "code",
      "metadata": {
        "id": "mrHKyultE540",
        "colab_type": "code",
        "outputId": "7b68772a-883b-496c-d15a-673e306f3e4d",
        "colab": {
          "base_uri": "https://localhost:8080/",
          "height": 202
        }
      },
      "source": [
        "model_dnn.fit(train_images,train_labels,epochs=5)"
      ],
      "execution_count": 0,
      "outputs": [
        {
          "output_type": "stream",
          "text": [
            "Epoch 1/5\n",
            "1875/1875 [==============================] - 3s 2ms/step - loss: 0.0590 - accuracy: 0.9808\n",
            "Epoch 2/5\n",
            "1875/1875 [==============================] - 3s 2ms/step - loss: 0.0519 - accuracy: 0.9833\n",
            "Epoch 3/5\n",
            "1875/1875 [==============================] - 4s 2ms/step - loss: 0.0483 - accuracy: 0.9840\n",
            "Epoch 4/5\n",
            "1875/1875 [==============================] - 4s 2ms/step - loss: 0.0415 - accuracy: 0.9864\n",
            "Epoch 5/5\n",
            "1875/1875 [==============================] - 4s 2ms/step - loss: 0.0407 - accuracy: 0.9858\n"
          ],
          "name": "stdout"
        },
        {
          "output_type": "execute_result",
          "data": {
            "text/plain": [
              "<tensorflow.python.keras.callbacks.History at 0x7f775eed4240>"
            ]
          },
          "metadata": {
            "tags": []
          },
          "execution_count": 19
        }
      ]
    }
  ]
}
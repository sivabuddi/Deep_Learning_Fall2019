{
  "nbformat": 4,
  "nbformat_minor": 0,
  "metadata": {
    "colab": {
      "name": "Simple_RNN.ipynb",
      "provenance": [],
      "collapsed_sections": []
    },
    "kernelspec": {
      "name": "python3",
      "display_name": "Python 3"
    }
  },
  "cells": [
    {
      "cell_type": "code",
      "metadata": {
        "id": "-3t-qkX0KrXx",
        "colab_type": "code",
        "colab": {}
      },
      "source": [
        "# Signifcance of RNN: For modeling sequential data.\n"
      ],
      "execution_count": 0,
      "outputs": []
    },
    {
      "cell_type": "code",
      "metadata": {
        "id": "b1lXAYhPWikP",
        "colab_type": "code",
        "colab": {}
      },
      "source": [
        " import numpy as np\n",
        " "
      ],
      "execution_count": 0,
      "outputs": []
    },
    {
      "cell_type": "code",
      "metadata": {
        "id": "PvYHJ74oW_Yz",
        "colab_type": "code",
        "colab": {}
      },
      "source": [
        "time_stamps = 100 # number of positions in the sentence \n",
        "input_features = 32 # number of features in each position\n",
        "output_features = 64 # number of outputs for each input feature"
      ],
      "execution_count": 0,
      "outputs": []
    },
    {
      "cell_type": "code",
      "metadata": {
        "id": "lZrRXPrjX9di",
        "colab_type": "code",
        "colab": {}
      },
      "source": [
        "input_t = np.random.random((time_stamps,input_features))"
      ],
      "execution_count": 0,
      "outputs": []
    },
    {
      "cell_type": "code",
      "metadata": {
        "id": "Y7O8h_XvYLXv",
        "colab_type": "code",
        "colab": {
          "base_uri": "https://localhost:8080/",
          "height": 134
        },
        "outputId": "98637c7b-fe44-4ae3-9f4a-24855d7045b3"
      },
      "source": [
        "print(inputs)"
      ],
      "execution_count": 29,
      "outputs": [
        {
          "output_type": "stream",
          "text": [
            "[[0.53205669 0.87796622 0.5944579  ... 0.4563593  0.79313558 0.10388875]\n",
            " [0.86525105 0.26738344 0.14528559 ... 0.33658205 0.18014802 0.30309926]\n",
            " [0.33890636 0.90180636 0.18545465 ... 0.08512261 0.21376094 0.23897839]\n",
            " ...\n",
            " [0.11160196 0.97640981 0.28166183 ... 0.40318425 0.57177154 0.84894023]\n",
            " [0.74820364 0.87083804 0.82701447 ... 0.58968486 0.79513299 0.09325774]\n",
            " [0.85685976 0.73517881 0.84701215 ... 0.23651329 0.49953364 0.08646357]]\n"
          ],
          "name": "stdout"
        }
      ]
    },
    {
      "cell_type": "code",
      "metadata": {
        "id": "StdhRfreYOd1",
        "colab_type": "code",
        "colab": {
          "base_uri": "https://localhost:8080/",
          "height": 34
        },
        "outputId": "8e9592fd-0f6c-461b-e884-c921e5f3acbf"
      },
      "source": [
        "print(inputs.shape)"
      ],
      "execution_count": 30,
      "outputs": [
        {
          "output_type": "stream",
          "text": [
            "(100, 32)\n"
          ],
          "name": "stdout"
        }
      ]
    },
    {
      "cell_type": "code",
      "metadata": {
        "id": "d-fp10xzYgLR",
        "colab_type": "code",
        "colab": {
          "base_uri": "https://localhost:8080/",
          "height": 67
        },
        "outputId": "bbefb777-c775-445b-ad11-cf2ab2420a8d"
      },
      "source": [
        "state_t = np.zeros((output_features))\n",
        "print(state_t)"
      ],
      "execution_count": 31,
      "outputs": [
        {
          "output_type": "stream",
          "text": [
            "[0. 0. 0. 0. 0. 0. 0. 0. 0. 0. 0. 0. 0. 0. 0. 0. 0. 0. 0. 0. 0. 0. 0. 0.\n",
            " 0. 0. 0. 0. 0. 0. 0. 0. 0. 0. 0. 0. 0. 0. 0. 0. 0. 0. 0. 0. 0. 0. 0. 0.\n",
            " 0. 0. 0. 0. 0. 0. 0. 0. 0. 0. 0. 0. 0. 0. 0. 0.]\n"
          ],
          "name": "stdout"
        }
      ]
    },
    {
      "cell_type": "code",
      "metadata": {
        "id": "nk6fvGczYpBG",
        "colab_type": "code",
        "colab": {}
      },
      "source": [
        "# Intialize weights randomly "
      ],
      "execution_count": 0,
      "outputs": []
    },
    {
      "cell_type": "code",
      "metadata": {
        "id": "ei1SGbNbYs_G",
        "colab_type": "code",
        "colab": {}
      },
      "source": [
        "W = np.random.random((output_features,input_features))\n",
        "U = np.random.random((output_features,output_features))\n",
        "b = np.random.random((output_features, ))"
      ],
      "execution_count": 0,
      "outputs": []
    },
    {
      "cell_type": "code",
      "metadata": {
        "id": "75p_w9a7ZXi2",
        "colab_type": "code",
        "colab": {}
      },
      "source": [
        "# Lets implement RNN"
      ],
      "execution_count": 0,
      "outputs": []
    },
    {
      "cell_type": "code",
      "metadata": {
        "id": "vxAG2i_fZa2E",
        "colab_type": "code",
        "colab": {}
      },
      "source": [
        "success_output = []\n",
        "for input_t in inputs:\n",
        "  output_t = np.tanh(np.dot(W, input_t) + np.dot(U,state_t)+b)\n",
        "  success_output.append(output_t)\n",
        "  state_t = output_t "
      ],
      "execution_count": 0,
      "outputs": []
    },
    {
      "cell_type": "code",
      "metadata": {
        "id": "UdKrBPuPa3fa",
        "colab_type": "code",
        "colab": {}
      },
      "source": [
        "final_output_seq = np.concatenate(success_output,axis=0)"
      ],
      "execution_count": 0,
      "outputs": []
    },
    {
      "cell_type": "code",
      "metadata": {
        "id": "fHAqFjTVbEeo",
        "colab_type": "code",
        "colab": {
          "base_uri": "https://localhost:8080/",
          "height": 34
        },
        "outputId": "666e1fd1-634d-4629-94e7-f6f3d0cea9d0"
      },
      "source": [
        "print(final_output_seq)"
      ],
      "execution_count": 35,
      "outputs": [
        {
          "output_type": "stream",
          "text": [
            "[0.99999833 0.99999843 0.99999994 ... 1.         1.         1.        ]\n"
          ],
          "name": "stdout"
        }
      ]
    },
    {
      "cell_type": "code",
      "metadata": {
        "id": "O2c8CyLEbK-L",
        "colab_type": "code",
        "colab": {
          "base_uri": "https://localhost:8080/",
          "height": 34
        },
        "outputId": "a273fe81-fcae-4efa-caf6-4ba2092bb7ed"
      },
      "source": [
        "print(final_output_seq.shape)"
      ],
      "execution_count": 38,
      "outputs": [
        {
          "output_type": "stream",
          "text": [
            "(6400,)\n"
          ],
          "name": "stdout"
        }
      ]
    },
    {
      "cell_type": "code",
      "metadata": {
        "id": "JTGeV1eLcS-J",
        "colab_type": "code",
        "colab": {}
      },
      "source": [
        ""
      ],
      "execution_count": 0,
      "outputs": []
    }
  ]
}